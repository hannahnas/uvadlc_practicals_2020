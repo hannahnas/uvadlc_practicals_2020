{
 "cells": [
  {
   "cell_type": "code",
   "execution_count": 2,
   "metadata": {},
   "outputs": [],
   "source": [
    "import pickle\n",
    "import matplotlib.pyplot as plt\n",
    "import numpy as np\n",
    "\n",
    "plt.rcParams.update(plt.rcParamsDefault)\n",
    "plt.rc('axes', labelsize=15)\n",
    "plt.rc('font', size=15)\n",
    "plt.rc('xtick', labelsize=14)\n",
    "plt.rc('ytick', labelsize=14)"
   ]
  },
  {
   "cell_type": "code",
   "execution_count": 3,
   "metadata": {},
   "outputs": [],
   "source": [
    "def plot_performance(data):\n",
    "    fig, ax = plt.subplots(1, 2, figsize=(15, 5))\n",
    "    ax = ax.ravel()\n",
    "    \n",
    "    for performance, seq_len, color in iterate:\n",
    "        mean_loss, std_loss, mean_acc, std_acc = mean_std_performance(performance)\n",
    "        x = np.arange(len(mean_loss))\n",
    "        # Plot loss\n",
    "        ax[0].plot(x, mean_loss, label=seq_len, color=color)\n",
    "        ax[0].fill_between(x, mean_loss-std_loss, mean_loss+std_loss, alpha=0.6, label='$\\sigma$', color=color)\n",
    "        # Plot accuracy             \n",
    "        ax[1].plot(np.arange(400), mean_acc, label=seq_len, color=color)\n",
    "        ax[1].fill_between(x, mean_acc-std_acc, mean_acc+std_acc, alpha=0.6, label='$\\sigma$', color=color)\n",
    "    ax.plot(train_loss[:, 0], train_loss[:, 1],\n",
    "    ax[0].legend()\n",
    "    ax[0].set_xlabel('Step')\n",
    "    ax[0].set_ylabel('Train loss')\n",
    "    ax[1].set_xlabel('Step')\n",
    "    ax[1].set_ylabel('Train accuracy')\n",
    "    ax[1].legend()\n",
    "    plt.show()\n",
    "    "
   ]
  },
  {
   "cell_type": "markdown",
   "metadata": {},
   "source": [
    "# LSTM"
   ]
  },
  {
   "cell_type": "code",
   "execution_count": 4,
   "metadata": {},
   "outputs": [],
   "source": [
    "lstm_5_0 = pickle.load(open(\"./Performance/SpeechGeneration_data_book_EN_grimms_fairy_tails.p\", \"rb\"))\n"
   ]
  },
  {
   "cell_type": "code",
   "execution_count": null,
   "metadata": {},
   "outputs": [],
   "source": []
  }
 ],
 "metadata": {
  "kernelspec": {
   "display_name": "Python 3",
   "language": "python",
   "name": "python3"
  },
  "language_info": {
   "codemirror_mode": {
    "name": "ipython",
    "version": 3
   },
   "file_extension": ".py",
   "mimetype": "text/x-python",
   "name": "python",
   "nbconvert_exporter": "python",
   "pygments_lexer": "ipython3",
   "version": "3.7.5"
  }
 },
 "nbformat": 4,
 "nbformat_minor": 4
}
